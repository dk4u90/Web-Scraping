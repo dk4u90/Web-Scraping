{
 "cells": [
  {
   "cell_type": "code",
   "execution_count": 1,
   "id": "fd9f750c",
   "metadata": {},
   "outputs": [
    {
     "name": "stdout",
     "output_type": "stream",
     "text": [
      "Requirement already satisfied: selenium in c:\\users\\hp\\anaconda3\\lib\\site-packages (3.141.0)\n",
      "Requirement already satisfied: urllib3 in c:\\users\\hp\\anaconda3\\lib\\site-packages (from selenium) (1.26.4)\n",
      "Note: you may need to restart the kernel to use updated packages.\n"
     ]
    }
   ],
   "source": [
    "pip install selenium"
   ]
  },
  {
   "cell_type": "code",
   "execution_count": 1,
   "id": "4787511b",
   "metadata": {},
   "outputs": [],
   "source": [
    "import selenium\n",
    "import pandas as pd\n",
    "from selenium import webdriver"
   ]
  },
  {
   "cell_type": "code",
   "execution_count": 2,
   "id": "55408d0f",
   "metadata": {},
   "outputs": [],
   "source": [
    "driver = webdriver.Chrome('chromedriver.exe')"
   ]
  },
  {
   "cell_type": "code",
   "execution_count": 3,
   "id": "a55e2355",
   "metadata": {},
   "outputs": [],
   "source": [
    "url='https://www.naukri.com/'\n",
    "driver.get(url)"
   ]
  },
  {
   "cell_type": "code",
   "execution_count": 4,
   "id": "fa92f8c2",
   "metadata": {},
   "outputs": [
    {
     "data": {
      "text/plain": [
       "<selenium.webdriver.remote.webelement.WebElement (session=\"124ff99de68e0d8a70a371628e9e3a3c\", element=\"54da77a6-4a6e-41c9-9b16-0401cce70f03\")>"
      ]
     },
     "execution_count": 4,
     "metadata": {},
     "output_type": "execute_result"
    }
   ],
   "source": [
    "search_job=driver.find_element_by_id('qsb-keyword-sugg')\n",
    "search_job"
   ]
  },
  {
   "cell_type": "code",
   "execution_count": 5,
   "id": "8d5699ab",
   "metadata": {},
   "outputs": [],
   "source": [
    "search_job.send_keys('Data Scientist')"
   ]
  },
  {
   "cell_type": "code",
   "execution_count": 6,
   "id": "61f5eb96",
   "metadata": {},
   "outputs": [
    {
     "data": {
      "text/plain": [
       "<selenium.webdriver.remote.webelement.WebElement (session=\"124ff99de68e0d8a70a371628e9e3a3c\", element=\"6be10d33-5977-453f-a5a8-aaa947186614\")>"
      ]
     },
     "execution_count": 6,
     "metadata": {},
     "output_type": "execute_result"
    }
   ],
   "source": [
    "search_loc=driver.find_element_by_id('qsb-location-sugg')\n",
    "search_loc"
   ]
  },
  {
   "cell_type": "code",
   "execution_count": 7,
   "id": "5225d2f5",
   "metadata": {},
   "outputs": [],
   "source": [
    "search_loc.send_keys('Delhi')"
   ]
  },
  {
   "cell_type": "code",
   "execution_count": 8,
   "id": "7e22da5c",
   "metadata": {},
   "outputs": [],
   "source": [
    "search_btn=driver.find_element_by_xpath(\"//button[@class='btn']\")\n",
    "search_btn.click()"
   ]
  },
  {
   "cell_type": "code",
   "execution_count": 9,
   "id": "fd8590fc",
   "metadata": {},
   "outputs": [
    {
     "data": {
      "text/plain": [
       "[<selenium.webdriver.remote.webelement.WebElement (session=\"124ff99de68e0d8a70a371628e9e3a3c\", element=\"b2f91c9d-83d0-41d4-b2f3-ff7068bc5250\")>,\n",
       " <selenium.webdriver.remote.webelement.WebElement (session=\"124ff99de68e0d8a70a371628e9e3a3c\", element=\"3439e532-37a7-4bc7-94ce-e97ae61cde8c\")>,\n",
       " <selenium.webdriver.remote.webelement.WebElement (session=\"124ff99de68e0d8a70a371628e9e3a3c\", element=\"41ea7a2f-665a-44a6-9e4a-8b1bf7778fbe\")>,\n",
       " <selenium.webdriver.remote.webelement.WebElement (session=\"124ff99de68e0d8a70a371628e9e3a3c\", element=\"9573c5b5-3ffe-42cb-9e55-e661832fe8a4\")>,\n",
       " <selenium.webdriver.remote.webelement.WebElement (session=\"124ff99de68e0d8a70a371628e9e3a3c\", element=\"e3cf4167-b48a-4087-8810-72b9b6a8f308\")>,\n",
       " <selenium.webdriver.remote.webelement.WebElement (session=\"124ff99de68e0d8a70a371628e9e3a3c\", element=\"c0508a14-c59e-40f7-918b-1484c7f1fef0\")>,\n",
       " <selenium.webdriver.remote.webelement.WebElement (session=\"124ff99de68e0d8a70a371628e9e3a3c\", element=\"1c0b622e-4b39-4908-a99b-28a5b2f23467\")>,\n",
       " <selenium.webdriver.remote.webelement.WebElement (session=\"124ff99de68e0d8a70a371628e9e3a3c\", element=\"2b9424dd-b988-4f42-a669-34144e3eefa0\")>,\n",
       " <selenium.webdriver.remote.webelement.WebElement (session=\"124ff99de68e0d8a70a371628e9e3a3c\", element=\"373bb6f3-9bc6-4dc9-bb7e-51ee31af38b9\")>,\n",
       " <selenium.webdriver.remote.webelement.WebElement (session=\"124ff99de68e0d8a70a371628e9e3a3c\", element=\"51505eb8-f331-49c1-9d09-a26e56ed2ca8\")>,\n",
       " <selenium.webdriver.remote.webelement.WebElement (session=\"124ff99de68e0d8a70a371628e9e3a3c\", element=\"0d6cd1c9-3117-423e-8368-05bb8f64eaab\")>,\n",
       " <selenium.webdriver.remote.webelement.WebElement (session=\"124ff99de68e0d8a70a371628e9e3a3c\", element=\"e2423efb-1585-42bd-aa33-17254eda5e02\")>,\n",
       " <selenium.webdriver.remote.webelement.WebElement (session=\"124ff99de68e0d8a70a371628e9e3a3c\", element=\"5d26f21a-b21b-483c-b3b0-4b96788cf813\")>,\n",
       " <selenium.webdriver.remote.webelement.WebElement (session=\"124ff99de68e0d8a70a371628e9e3a3c\", element=\"96936f60-b72c-4691-97c3-0e7435fdf643\")>,\n",
       " <selenium.webdriver.remote.webelement.WebElement (session=\"124ff99de68e0d8a70a371628e9e3a3c\", element=\"55c34c1a-7e08-4716-8c04-52708a42858a\")>,\n",
       " <selenium.webdriver.remote.webelement.WebElement (session=\"124ff99de68e0d8a70a371628e9e3a3c\", element=\"d1a2567e-4f5e-4061-8f43-cd1e2d1a929a\")>,\n",
       " <selenium.webdriver.remote.webelement.WebElement (session=\"124ff99de68e0d8a70a371628e9e3a3c\", element=\"c04efabd-b567-4b9e-8023-58c66714fdfc\")>,\n",
       " <selenium.webdriver.remote.webelement.WebElement (session=\"124ff99de68e0d8a70a371628e9e3a3c\", element=\"d8687cc8-fda1-4f77-869b-fd86db88e00c\")>,\n",
       " <selenium.webdriver.remote.webelement.WebElement (session=\"124ff99de68e0d8a70a371628e9e3a3c\", element=\"1dcbd795-dac0-4b75-a02b-e264f854bea7\")>,\n",
       " <selenium.webdriver.remote.webelement.WebElement (session=\"124ff99de68e0d8a70a371628e9e3a3c\", element=\"d0dc6edb-be99-4062-b433-599f5effdf0c\")>]"
      ]
     },
     "execution_count": 9,
     "metadata": {},
     "output_type": "execute_result"
    }
   ],
   "source": [
    "titles_tags=driver.find_elements_by_xpath(\"//a[@class='title fw500 ellipsis']\")\n",
    "titles_tags"
   ]
  },
  {
   "cell_type": "code",
   "execution_count": 10,
   "id": "44b3172b",
   "metadata": {},
   "outputs": [
    {
     "data": {
      "text/plain": [
       "['Data Scientist / Data Analyst -Business Analyst',\n",
       " 'Data analytics / Data scientist intern (work from Home)',\n",
       " 'Senior Data Scientist',\n",
       " 'Chaayos is Looking For Data Scientist',\n",
       " 'Data Scientist',\n",
       " 'Senior Data Scientist - Machine Learning/Hadoop',\n",
       " 'Co-Founder & Principal Data Scientist/Senior Scientist - NLP/Python',\n",
       " 'Lead Data Scientist',\n",
       " 'Data Scientist',\n",
       " 'Data Scientist, Machine Learning',\n",
       " 'Senior Data Scientist (Algorithmic Trading)',\n",
       " 'Data Scientist - Manufacturing Domain (SCM aspect) Location Open',\n",
       " 'Opening For Data Scientist in Axtria',\n",
       " 'Junior Data Scientist',\n",
       " 'Jr. Data Scientist, Gurgaon',\n",
       " 'We are hiring- Data Scientist +Python- Noida',\n",
       " 'Senior Data Scientist - Machine Learning',\n",
       " 'Senior Data Scientist - Product Development Firm - IIT/ NIT/ BITS',\n",
       " 'Data Scientist - KPO - IIT/NIT/BITS',\n",
       " 'Big Data Scientist']"
      ]
     },
     "execution_count": 10,
     "metadata": {},
     "output_type": "execute_result"
    }
   ],
   "source": [
    "job_titles=[]\n",
    "for i in titles_tags:\n",
    "    job_titles.append(i.text)\n",
    "job_titles"
   ]
  },
  {
   "cell_type": "code",
   "execution_count": 11,
   "id": "47f8785f",
   "metadata": {},
   "outputs": [
    {
     "data": {
      "text/plain": [
       "[<selenium.webdriver.remote.webelement.WebElement (session=\"124ff99de68e0d8a70a371628e9e3a3c\", element=\"930c1a5a-4827-4062-b727-131ae3d61131\")>,\n",
       " <selenium.webdriver.remote.webelement.WebElement (session=\"124ff99de68e0d8a70a371628e9e3a3c\", element=\"81c95d18-7a63-4bf8-9191-62319998a51b\")>,\n",
       " <selenium.webdriver.remote.webelement.WebElement (session=\"124ff99de68e0d8a70a371628e9e3a3c\", element=\"81e39434-7484-4308-a2a8-0e38ed7ab3a3\")>,\n",
       " <selenium.webdriver.remote.webelement.WebElement (session=\"124ff99de68e0d8a70a371628e9e3a3c\", element=\"8cea48ee-6f5c-42a8-9dbf-38610da0b630\")>,\n",
       " <selenium.webdriver.remote.webelement.WebElement (session=\"124ff99de68e0d8a70a371628e9e3a3c\", element=\"1fe1fc36-24c5-4982-bd11-75443c3243b8\")>,\n",
       " <selenium.webdriver.remote.webelement.WebElement (session=\"124ff99de68e0d8a70a371628e9e3a3c\", element=\"c2e16867-cc19-4906-baac-65647a4b981f\")>,\n",
       " <selenium.webdriver.remote.webelement.WebElement (session=\"124ff99de68e0d8a70a371628e9e3a3c\", element=\"970297fc-f957-48f7-b6b6-ac89e6160bb0\")>,\n",
       " <selenium.webdriver.remote.webelement.WebElement (session=\"124ff99de68e0d8a70a371628e9e3a3c\", element=\"003af7b0-fb8f-45ab-a5a2-6f65d275312f\")>,\n",
       " <selenium.webdriver.remote.webelement.WebElement (session=\"124ff99de68e0d8a70a371628e9e3a3c\", element=\"ee331d65-061d-410b-bd64-e8632ba4e503\")>,\n",
       " <selenium.webdriver.remote.webelement.WebElement (session=\"124ff99de68e0d8a70a371628e9e3a3c\", element=\"0f3f92f5-9c1a-4dd7-a9cc-62f152c42090\")>,\n",
       " <selenium.webdriver.remote.webelement.WebElement (session=\"124ff99de68e0d8a70a371628e9e3a3c\", element=\"30871ec4-c611-4dc3-9235-1d7839e19ee2\")>,\n",
       " <selenium.webdriver.remote.webelement.WebElement (session=\"124ff99de68e0d8a70a371628e9e3a3c\", element=\"09652cd8-55f8-499c-b79b-9a46a83700f5\")>,\n",
       " <selenium.webdriver.remote.webelement.WebElement (session=\"124ff99de68e0d8a70a371628e9e3a3c\", element=\"4e01b264-c053-45ca-a9a4-affa12f1630c\")>,\n",
       " <selenium.webdriver.remote.webelement.WebElement (session=\"124ff99de68e0d8a70a371628e9e3a3c\", element=\"dd975eaa-fc86-4f13-99e8-b168d3d311f5\")>,\n",
       " <selenium.webdriver.remote.webelement.WebElement (session=\"124ff99de68e0d8a70a371628e9e3a3c\", element=\"b40c6af0-5371-4549-be8c-9a85c314e757\")>,\n",
       " <selenium.webdriver.remote.webelement.WebElement (session=\"124ff99de68e0d8a70a371628e9e3a3c\", element=\"03a3a3ce-7a2e-4415-b7a7-9745138a5f19\")>,\n",
       " <selenium.webdriver.remote.webelement.WebElement (session=\"124ff99de68e0d8a70a371628e9e3a3c\", element=\"d0c06fde-7a19-4fd9-987b-7b67205a7b62\")>,\n",
       " <selenium.webdriver.remote.webelement.WebElement (session=\"124ff99de68e0d8a70a371628e9e3a3c\", element=\"a0cff89a-b1b4-486b-9941-13f5fb9a8dc3\")>,\n",
       " <selenium.webdriver.remote.webelement.WebElement (session=\"124ff99de68e0d8a70a371628e9e3a3c\", element=\"ae780233-4dd7-4d6a-a41d-e4d6cf153fc0\")>,\n",
       " <selenium.webdriver.remote.webelement.WebElement (session=\"124ff99de68e0d8a70a371628e9e3a3c\", element=\"831146c3-0552-4a80-8ac7-e1a13b0993a3\")>]"
      ]
     },
     "execution_count": 11,
     "metadata": {},
     "output_type": "execute_result"
    }
   ],
   "source": [
    "experience_tags=driver.find_elements_by_xpath(\"//li[@class='fleft grey-text br2 placeHolderLi experience']\")\n",
    "experience_tags"
   ]
  },
  {
   "cell_type": "code",
   "execution_count": 12,
   "id": "654f7ad8",
   "metadata": {},
   "outputs": [
    {
     "data": {
      "text/plain": [
       "['0-3 Yrs',\n",
       " '0-5 Yrs',\n",
       " '3-7 Yrs',\n",
       " '0-5 Yrs',\n",
       " '5-9 Yrs',\n",
       " '2-7 Yrs',\n",
       " '2-7 Yrs',\n",
       " '10-15 Yrs',\n",
       " '3-7 Yrs',\n",
       " '3-6 Yrs',\n",
       " '5-10 Yrs',\n",
       " '7-12 Yrs',\n",
       " '7-12 Yrs',\n",
       " '3-5 Yrs',\n",
       " '1-6 Yrs',\n",
       " '4-7 Yrs',\n",
       " '5-8 Yrs',\n",
       " '5-10 Yrs',\n",
       " '2-7 Yrs',\n",
       " '5-10 Yrs']"
      ]
     },
     "execution_count": 12,
     "metadata": {},
     "output_type": "execute_result"
    }
   ],
   "source": [
    "experience=[]\n",
    "for i in experience_tags:\n",
    "    experience.append(i.text)\n",
    "experience"
   ]
  },
  {
   "cell_type": "code",
   "execution_count": 13,
   "id": "4fd5b7d8",
   "metadata": {},
   "outputs": [
    {
     "data": {
      "text/plain": [
       "[<selenium.webdriver.remote.webelement.WebElement (session=\"124ff99de68e0d8a70a371628e9e3a3c\", element=\"7c26c11c-8bd8-44e4-897e-3abf02b25a15\")>,\n",
       " <selenium.webdriver.remote.webelement.WebElement (session=\"124ff99de68e0d8a70a371628e9e3a3c\", element=\"61a15803-9597-4210-8778-affe2d70291c\")>,\n",
       " <selenium.webdriver.remote.webelement.WebElement (session=\"124ff99de68e0d8a70a371628e9e3a3c\", element=\"8f61ca77-fa27-4792-8ea1-f8ae28b1483a\")>,\n",
       " <selenium.webdriver.remote.webelement.WebElement (session=\"124ff99de68e0d8a70a371628e9e3a3c\", element=\"68c6f38d-ca26-4014-a95e-c4583eed87e4\")>,\n",
       " <selenium.webdriver.remote.webelement.WebElement (session=\"124ff99de68e0d8a70a371628e9e3a3c\", element=\"a9ddf869-1607-4c52-a40d-5ad563c20656\")>,\n",
       " <selenium.webdriver.remote.webelement.WebElement (session=\"124ff99de68e0d8a70a371628e9e3a3c\", element=\"34d97df0-b294-4174-b3d4-def2fa959802\")>,\n",
       " <selenium.webdriver.remote.webelement.WebElement (session=\"124ff99de68e0d8a70a371628e9e3a3c\", element=\"cd02f6f3-6196-41dd-9a92-6bbdab51bd1b\")>,\n",
       " <selenium.webdriver.remote.webelement.WebElement (session=\"124ff99de68e0d8a70a371628e9e3a3c\", element=\"6795fa59-844d-4c68-bdc2-2f06cf961a5c\")>,\n",
       " <selenium.webdriver.remote.webelement.WebElement (session=\"124ff99de68e0d8a70a371628e9e3a3c\", element=\"16c476e0-f916-4cf1-ae8c-f4bfd16c55ef\")>,\n",
       " <selenium.webdriver.remote.webelement.WebElement (session=\"124ff99de68e0d8a70a371628e9e3a3c\", element=\"d22e9193-8980-482b-ae77-e7cee2c98b4d\")>,\n",
       " <selenium.webdriver.remote.webelement.WebElement (session=\"124ff99de68e0d8a70a371628e9e3a3c\", element=\"6c385417-e301-4848-96a1-88e505560f29\")>,\n",
       " <selenium.webdriver.remote.webelement.WebElement (session=\"124ff99de68e0d8a70a371628e9e3a3c\", element=\"6e5e38f9-79aa-4039-b216-fdd70bba2029\")>,\n",
       " <selenium.webdriver.remote.webelement.WebElement (session=\"124ff99de68e0d8a70a371628e9e3a3c\", element=\"488eea09-8436-4e33-989a-23aac4ad74aa\")>,\n",
       " <selenium.webdriver.remote.webelement.WebElement (session=\"124ff99de68e0d8a70a371628e9e3a3c\", element=\"3278268d-1e1f-4fe7-89f7-92befac05656\")>,\n",
       " <selenium.webdriver.remote.webelement.WebElement (session=\"124ff99de68e0d8a70a371628e9e3a3c\", element=\"f2e92b97-c984-40bc-bde8-f8887d125354\")>,\n",
       " <selenium.webdriver.remote.webelement.WebElement (session=\"124ff99de68e0d8a70a371628e9e3a3c\", element=\"393fd5b8-6311-4a91-a3ef-0d603560533f\")>,\n",
       " <selenium.webdriver.remote.webelement.WebElement (session=\"124ff99de68e0d8a70a371628e9e3a3c\", element=\"cf47beb9-852c-4687-b468-a471df4234ad\")>,\n",
       " <selenium.webdriver.remote.webelement.WebElement (session=\"124ff99de68e0d8a70a371628e9e3a3c\", element=\"4543f39d-c95c-43d3-8a92-eebe79e930d8\")>,\n",
       " <selenium.webdriver.remote.webelement.WebElement (session=\"124ff99de68e0d8a70a371628e9e3a3c\", element=\"e9b1a05c-b8c8-401c-82af-23a829d70d8e\")>,\n",
       " <selenium.webdriver.remote.webelement.WebElement (session=\"124ff99de68e0d8a70a371628e9e3a3c\", element=\"d113b53d-530e-42cc-9745-ae0233644778\")>]"
      ]
     },
     "execution_count": 13,
     "metadata": {},
     "output_type": "execute_result"
    }
   ],
   "source": [
    "location_tags=driver.find_elements_by_xpath(\"//li[@class='fleft grey-text br2 placeHolderLi location']\")\n",
    "location_tags"
   ]
  },
  {
   "cell_type": "code",
   "execution_count": 14,
   "id": "76914780",
   "metadata": {},
   "outputs": [
    {
     "data": {
      "text/plain": [
       "['Mumbai, Hyderabad/Secunderabad, Pune, Gurgaon/Gurugram, Chennai, Bangalore/Bengaluru',\n",
       " 'Kolkata, Bangalore/Bengaluru, Delhi / NCR',\n",
       " 'Hyderabad/Secunderabad, Bangalore/Bengaluru, Delhi / NCR',\n",
       " 'New Delhi',\n",
       " 'Noida, Bangalore/Bengaluru',\n",
       " 'Gurgaon/Gurugram',\n",
       " 'Gurgaon/Gurugram, Delhi / NCR',\n",
       " 'Gurgaon/Gurugram, Bangalore/Bengaluru, Mumbai (All Areas)',\n",
       " 'Mumbai, Gurgaon/Gurugram, Bangalore/Bengaluru',\n",
       " 'Gurgaon/Gurugram, Bangalore/Bengaluru, Mumbai (All Areas)',\n",
       " 'Noida',\n",
       " 'Kolkata, Pune, Chennai, Bangalore/Bengaluru, Delhi / NCR, Mumbai (All Areas)',\n",
       " 'Noida, Bangalore/Bengaluru',\n",
       " 'Noida(Sector-59 Noida)',\n",
       " 'Gurgaon/Gurugram',\n",
       " 'Noida, Gurgaon/Gurugram, Delhi / NCR',\n",
       " 'Delhi / NCR',\n",
       " 'Gurgaon/Gurugram, Delhi / NCR',\n",
       " 'Mumbai, Bangalore/Bengaluru, Delhi NCR',\n",
       " 'Gurgaon/Gurugram, India, Bangalore/Bengaluru']"
      ]
     },
     "execution_count": 14,
     "metadata": {},
     "output_type": "execute_result"
    }
   ],
   "source": [
    "location=[]\n",
    "for i in location_tags:\n",
    "    location.append(i.text)\n",
    "location"
   ]
  },
  {
   "cell_type": "code",
   "execution_count": 15,
   "id": "cd0b32d2",
   "metadata": {},
   "outputs": [
    {
     "data": {
      "text/plain": [
       "[<selenium.webdriver.remote.webelement.WebElement (session=\"124ff99de68e0d8a70a371628e9e3a3c\", element=\"042a6b6a-f3e3-472f-bead-24a939cadb6c\")>,\n",
       " <selenium.webdriver.remote.webelement.WebElement (session=\"124ff99de68e0d8a70a371628e9e3a3c\", element=\"a872f96a-13e2-472f-bc58-53328fb2e370\")>,\n",
       " <selenium.webdriver.remote.webelement.WebElement (session=\"124ff99de68e0d8a70a371628e9e3a3c\", element=\"8eeac5fa-f9f4-4af9-8166-1e151437e7b3\")>,\n",
       " <selenium.webdriver.remote.webelement.WebElement (session=\"124ff99de68e0d8a70a371628e9e3a3c\", element=\"33ec8aef-5a41-4e67-9e25-c6a329f35725\")>,\n",
       " <selenium.webdriver.remote.webelement.WebElement (session=\"124ff99de68e0d8a70a371628e9e3a3c\", element=\"12c76060-f625-48e4-b7cd-540472fb685f\")>,\n",
       " <selenium.webdriver.remote.webelement.WebElement (session=\"124ff99de68e0d8a70a371628e9e3a3c\", element=\"a7de1943-86a3-4d50-9e70-3af6266ce20f\")>,\n",
       " <selenium.webdriver.remote.webelement.WebElement (session=\"124ff99de68e0d8a70a371628e9e3a3c\", element=\"16cdfd53-6345-4c11-bac1-d69ddfd77bab\")>,\n",
       " <selenium.webdriver.remote.webelement.WebElement (session=\"124ff99de68e0d8a70a371628e9e3a3c\", element=\"08849a23-5159-4fd4-8def-24b98fd5788a\")>,\n",
       " <selenium.webdriver.remote.webelement.WebElement (session=\"124ff99de68e0d8a70a371628e9e3a3c\", element=\"72920865-c1ac-4317-aa49-8694ba0efd57\")>,\n",
       " <selenium.webdriver.remote.webelement.WebElement (session=\"124ff99de68e0d8a70a371628e9e3a3c\", element=\"78e964e7-c538-4792-bb64-bf9a4b0e592d\")>,\n",
       " <selenium.webdriver.remote.webelement.WebElement (session=\"124ff99de68e0d8a70a371628e9e3a3c\", element=\"ee0c869c-5757-4453-a6d6-a7898261b602\")>,\n",
       " <selenium.webdriver.remote.webelement.WebElement (session=\"124ff99de68e0d8a70a371628e9e3a3c\", element=\"f97573fa-bcff-4bb6-953c-ad831b375074\")>,\n",
       " <selenium.webdriver.remote.webelement.WebElement (session=\"124ff99de68e0d8a70a371628e9e3a3c\", element=\"92d359c9-b0e0-4194-9919-6808b033312c\")>,\n",
       " <selenium.webdriver.remote.webelement.WebElement (session=\"124ff99de68e0d8a70a371628e9e3a3c\", element=\"e28c77a8-e9f8-4a69-9c3b-b3af8c7fa868\")>,\n",
       " <selenium.webdriver.remote.webelement.WebElement (session=\"124ff99de68e0d8a70a371628e9e3a3c\", element=\"8d6c8878-abab-425c-9bbb-562213d3a64d\")>,\n",
       " <selenium.webdriver.remote.webelement.WebElement (session=\"124ff99de68e0d8a70a371628e9e3a3c\", element=\"15b95949-e63d-45c3-950f-62f60a3fbe47\")>,\n",
       " <selenium.webdriver.remote.webelement.WebElement (session=\"124ff99de68e0d8a70a371628e9e3a3c\", element=\"3a9ef23f-992c-4e74-bed0-44fe238bc285\")>,\n",
       " <selenium.webdriver.remote.webelement.WebElement (session=\"124ff99de68e0d8a70a371628e9e3a3c\", element=\"52825a3f-5489-488e-87b0-6c2903ea52b3\")>,\n",
       " <selenium.webdriver.remote.webelement.WebElement (session=\"124ff99de68e0d8a70a371628e9e3a3c\", element=\"f83fd1d9-6b0f-466b-a313-bd80973ef8fc\")>,\n",
       " <selenium.webdriver.remote.webelement.WebElement (session=\"124ff99de68e0d8a70a371628e9e3a3c\", element=\"1107aa32-113d-4013-b3b1-6ae0ade1f73a\")>]"
      ]
     },
     "execution_count": 15,
     "metadata": {},
     "output_type": "execute_result"
    }
   ],
   "source": [
    "company_name=driver.find_elements_by_xpath(\"//a[@class='subTitle ellipsis fleft']\")\n",
    "company_name"
   ]
  },
  {
   "cell_type": "code",
   "execution_count": 16,
   "id": "d4a5da3d",
   "metadata": {},
   "outputs": [
    {
     "data": {
      "text/plain": [
       "['Inflexion Analytix Private Limited',\n",
       " 'TalkValley LLC',\n",
       " 'Infocrunch Campaigns Pvt Ltd',\n",
       " 'Chaayos (Sunshine Teahouse Pvt. Ltd.)',\n",
       " 'Oracle India Pvt. Ltd.',\n",
       " 'Decision Point',\n",
       " 'Benovymed Healthcare',\n",
       " 'Fractal Analytics',\n",
       " 'Fractal Analytics',\n",
       " 'Fractal Analytics',\n",
       " 'TETHYS TECHNOLOGIES PRIVATE LIMITED',\n",
       " 'Naukri Premium - Employer Services',\n",
       " 'Axtria India Private Limited',\n",
       " 'R Systems International Ltd.',\n",
       " 'CBRE South Asia Pvt Ltd',\n",
       " 'RANDSTAD INDIA PVT LTD',\n",
       " 'MarketScope',\n",
       " 'Huquo Consulting Pvt. Ltd',\n",
       " 'TalentCo Search Pvt Ltd',\n",
       " 'Hire Hunters']"
      ]
     },
     "execution_count": 16,
     "metadata": {},
     "output_type": "execute_result"
    }
   ],
   "source": [
    "company=[]\n",
    "for i in company_name:\n",
    "    company.append(i.text)\n",
    "company"
   ]
  },
  {
   "cell_type": "code",
   "execution_count": 17,
   "id": "7bb3cfde",
   "metadata": {},
   "outputs": [
    {
     "name": "stdout",
     "output_type": "stream",
     "text": [
      "20 20 20\n"
     ]
    }
   ],
   "source": [
    "print(len(job_titles),len(location),len(experience))"
   ]
  },
  {
   "cell_type": "code",
   "execution_count": 18,
   "id": "a4556ab4",
   "metadata": {},
   "outputs": [
    {
     "data": {
      "text/html": [
       "<div>\n",
       "<style scoped>\n",
       "    .dataframe tbody tr th:only-of-type {\n",
       "        vertical-align: middle;\n",
       "    }\n",
       "\n",
       "    .dataframe tbody tr th {\n",
       "        vertical-align: top;\n",
       "    }\n",
       "\n",
       "    .dataframe thead th {\n",
       "        text-align: right;\n",
       "    }\n",
       "</style>\n",
       "<table border=\"1\" class=\"dataframe\">\n",
       "  <thead>\n",
       "    <tr style=\"text-align: right;\">\n",
       "      <th></th>\n",
       "      <th>company</th>\n",
       "      <th>titale</th>\n",
       "      <th>location</th>\n",
       "      <th>experience</th>\n",
       "    </tr>\n",
       "  </thead>\n",
       "  <tbody>\n",
       "    <tr>\n",
       "      <th>0</th>\n",
       "      <td>Inflexion Analytix Private Limited</td>\n",
       "      <td>Data Scientist / Data Analyst -Business Analyst</td>\n",
       "      <td>Mumbai, Hyderabad/Secunderabad, Pune, Gurgaon/...</td>\n",
       "      <td>0-3 Yrs</td>\n",
       "    </tr>\n",
       "    <tr>\n",
       "      <th>1</th>\n",
       "      <td>TalkValley LLC</td>\n",
       "      <td>Data analytics / Data scientist intern (work f...</td>\n",
       "      <td>Kolkata, Bangalore/Bengaluru, Delhi / NCR</td>\n",
       "      <td>0-5 Yrs</td>\n",
       "    </tr>\n",
       "    <tr>\n",
       "      <th>2</th>\n",
       "      <td>Infocrunch Campaigns Pvt Ltd</td>\n",
       "      <td>Senior Data Scientist</td>\n",
       "      <td>Hyderabad/Secunderabad, Bangalore/Bengaluru, D...</td>\n",
       "      <td>3-7 Yrs</td>\n",
       "    </tr>\n",
       "    <tr>\n",
       "      <th>3</th>\n",
       "      <td>Chaayos (Sunshine Teahouse Pvt. Ltd.)</td>\n",
       "      <td>Chaayos is Looking For Data Scientist</td>\n",
       "      <td>New Delhi</td>\n",
       "      <td>0-5 Yrs</td>\n",
       "    </tr>\n",
       "    <tr>\n",
       "      <th>4</th>\n",
       "      <td>Oracle India Pvt. Ltd.</td>\n",
       "      <td>Data Scientist</td>\n",
       "      <td>Noida, Bangalore/Bengaluru</td>\n",
       "      <td>5-9 Yrs</td>\n",
       "    </tr>\n",
       "    <tr>\n",
       "      <th>5</th>\n",
       "      <td>Decision Point</td>\n",
       "      <td>Senior Data Scientist - Machine Learning/Hadoop</td>\n",
       "      <td>Gurgaon/Gurugram</td>\n",
       "      <td>2-7 Yrs</td>\n",
       "    </tr>\n",
       "    <tr>\n",
       "      <th>6</th>\n",
       "      <td>Benovymed Healthcare</td>\n",
       "      <td>Co-Founder &amp; Principal Data Scientist/Senior S...</td>\n",
       "      <td>Gurgaon/Gurugram, Delhi / NCR</td>\n",
       "      <td>2-7 Yrs</td>\n",
       "    </tr>\n",
       "    <tr>\n",
       "      <th>7</th>\n",
       "      <td>Fractal Analytics</td>\n",
       "      <td>Lead Data Scientist</td>\n",
       "      <td>Gurgaon/Gurugram, Bangalore/Bengaluru, Mumbai ...</td>\n",
       "      <td>10-15 Yrs</td>\n",
       "    </tr>\n",
       "    <tr>\n",
       "      <th>8</th>\n",
       "      <td>Fractal Analytics</td>\n",
       "      <td>Data Scientist</td>\n",
       "      <td>Mumbai, Gurgaon/Gurugram, Bangalore/Bengaluru</td>\n",
       "      <td>3-7 Yrs</td>\n",
       "    </tr>\n",
       "    <tr>\n",
       "      <th>9</th>\n",
       "      <td>Fractal Analytics</td>\n",
       "      <td>Data Scientist, Machine Learning</td>\n",
       "      <td>Gurgaon/Gurugram, Bangalore/Bengaluru, Mumbai ...</td>\n",
       "      <td>3-6 Yrs</td>\n",
       "    </tr>\n",
       "    <tr>\n",
       "      <th>10</th>\n",
       "      <td>TETHYS TECHNOLOGIES PRIVATE LIMITED</td>\n",
       "      <td>Senior Data Scientist (Algorithmic Trading)</td>\n",
       "      <td>Noida</td>\n",
       "      <td>5-10 Yrs</td>\n",
       "    </tr>\n",
       "    <tr>\n",
       "      <th>11</th>\n",
       "      <td>Naukri Premium - Employer Services</td>\n",
       "      <td>Data Scientist - Manufacturing Domain (SCM asp...</td>\n",
       "      <td>Kolkata, Pune, Chennai, Bangalore/Bengaluru, D...</td>\n",
       "      <td>7-12 Yrs</td>\n",
       "    </tr>\n",
       "    <tr>\n",
       "      <th>12</th>\n",
       "      <td>Axtria India Private Limited</td>\n",
       "      <td>Opening For Data Scientist in Axtria</td>\n",
       "      <td>Noida, Bangalore/Bengaluru</td>\n",
       "      <td>7-12 Yrs</td>\n",
       "    </tr>\n",
       "    <tr>\n",
       "      <th>13</th>\n",
       "      <td>R Systems International Ltd.</td>\n",
       "      <td>Junior Data Scientist</td>\n",
       "      <td>Noida(Sector-59 Noida)</td>\n",
       "      <td>3-5 Yrs</td>\n",
       "    </tr>\n",
       "    <tr>\n",
       "      <th>14</th>\n",
       "      <td>CBRE South Asia Pvt Ltd</td>\n",
       "      <td>Jr. Data Scientist, Gurgaon</td>\n",
       "      <td>Gurgaon/Gurugram</td>\n",
       "      <td>1-6 Yrs</td>\n",
       "    </tr>\n",
       "    <tr>\n",
       "      <th>15</th>\n",
       "      <td>RANDSTAD INDIA PVT LTD</td>\n",
       "      <td>We are hiring- Data Scientist +Python- Noida</td>\n",
       "      <td>Noida, Gurgaon/Gurugram, Delhi / NCR</td>\n",
       "      <td>4-7 Yrs</td>\n",
       "    </tr>\n",
       "    <tr>\n",
       "      <th>16</th>\n",
       "      <td>MarketScope</td>\n",
       "      <td>Senior Data Scientist - Machine Learning</td>\n",
       "      <td>Delhi / NCR</td>\n",
       "      <td>5-8 Yrs</td>\n",
       "    </tr>\n",
       "    <tr>\n",
       "      <th>17</th>\n",
       "      <td>Huquo Consulting Pvt. Ltd</td>\n",
       "      <td>Senior Data Scientist - Product Development Fi...</td>\n",
       "      <td>Gurgaon/Gurugram, Delhi / NCR</td>\n",
       "      <td>5-10 Yrs</td>\n",
       "    </tr>\n",
       "    <tr>\n",
       "      <th>18</th>\n",
       "      <td>TalentCo Search Pvt Ltd</td>\n",
       "      <td>Data Scientist - KPO - IIT/NIT/BITS</td>\n",
       "      <td>Mumbai, Bangalore/Bengaluru, Delhi NCR</td>\n",
       "      <td>2-7 Yrs</td>\n",
       "    </tr>\n",
       "    <tr>\n",
       "      <th>19</th>\n",
       "      <td>Hire Hunters</td>\n",
       "      <td>Big Data Scientist</td>\n",
       "      <td>Gurgaon/Gurugram, India, Bangalore/Bengaluru</td>\n",
       "      <td>5-10 Yrs</td>\n",
       "    </tr>\n",
       "  </tbody>\n",
       "</table>\n",
       "</div>"
      ],
      "text/plain": [
       "                                  company  \\\n",
       "0      Inflexion Analytix Private Limited   \n",
       "1                          TalkValley LLC   \n",
       "2            Infocrunch Campaigns Pvt Ltd   \n",
       "3   Chaayos (Sunshine Teahouse Pvt. Ltd.)   \n",
       "4                  Oracle India Pvt. Ltd.   \n",
       "5                          Decision Point   \n",
       "6                    Benovymed Healthcare   \n",
       "7                       Fractal Analytics   \n",
       "8                       Fractal Analytics   \n",
       "9                       Fractal Analytics   \n",
       "10    TETHYS TECHNOLOGIES PRIVATE LIMITED   \n",
       "11     Naukri Premium - Employer Services   \n",
       "12           Axtria India Private Limited   \n",
       "13           R Systems International Ltd.   \n",
       "14                CBRE South Asia Pvt Ltd   \n",
       "15                 RANDSTAD INDIA PVT LTD   \n",
       "16                            MarketScope   \n",
       "17              Huquo Consulting Pvt. Ltd   \n",
       "18                TalentCo Search Pvt Ltd   \n",
       "19                           Hire Hunters   \n",
       "\n",
       "                                               titale  \\\n",
       "0     Data Scientist / Data Analyst -Business Analyst   \n",
       "1   Data analytics / Data scientist intern (work f...   \n",
       "2                               Senior Data Scientist   \n",
       "3               Chaayos is Looking For Data Scientist   \n",
       "4                                      Data Scientist   \n",
       "5     Senior Data Scientist - Machine Learning/Hadoop   \n",
       "6   Co-Founder & Principal Data Scientist/Senior S...   \n",
       "7                                 Lead Data Scientist   \n",
       "8                                      Data Scientist   \n",
       "9                    Data Scientist, Machine Learning   \n",
       "10        Senior Data Scientist (Algorithmic Trading)   \n",
       "11  Data Scientist - Manufacturing Domain (SCM asp...   \n",
       "12               Opening For Data Scientist in Axtria   \n",
       "13                              Junior Data Scientist   \n",
       "14                        Jr. Data Scientist, Gurgaon   \n",
       "15       We are hiring- Data Scientist +Python- Noida   \n",
       "16           Senior Data Scientist - Machine Learning   \n",
       "17  Senior Data Scientist - Product Development Fi...   \n",
       "18                Data Scientist - KPO - IIT/NIT/BITS   \n",
       "19                                 Big Data Scientist   \n",
       "\n",
       "                                             location experience  \n",
       "0   Mumbai, Hyderabad/Secunderabad, Pune, Gurgaon/...    0-3 Yrs  \n",
       "1           Kolkata, Bangalore/Bengaluru, Delhi / NCR    0-5 Yrs  \n",
       "2   Hyderabad/Secunderabad, Bangalore/Bengaluru, D...    3-7 Yrs  \n",
       "3                                           New Delhi    0-5 Yrs  \n",
       "4                          Noida, Bangalore/Bengaluru    5-9 Yrs  \n",
       "5                                    Gurgaon/Gurugram    2-7 Yrs  \n",
       "6                       Gurgaon/Gurugram, Delhi / NCR    2-7 Yrs  \n",
       "7   Gurgaon/Gurugram, Bangalore/Bengaluru, Mumbai ...  10-15 Yrs  \n",
       "8       Mumbai, Gurgaon/Gurugram, Bangalore/Bengaluru    3-7 Yrs  \n",
       "9   Gurgaon/Gurugram, Bangalore/Bengaluru, Mumbai ...    3-6 Yrs  \n",
       "10                                              Noida   5-10 Yrs  \n",
       "11  Kolkata, Pune, Chennai, Bangalore/Bengaluru, D...   7-12 Yrs  \n",
       "12                         Noida, Bangalore/Bengaluru   7-12 Yrs  \n",
       "13                             Noida(Sector-59 Noida)    3-5 Yrs  \n",
       "14                                   Gurgaon/Gurugram    1-6 Yrs  \n",
       "15               Noida, Gurgaon/Gurugram, Delhi / NCR    4-7 Yrs  \n",
       "16                                        Delhi / NCR    5-8 Yrs  \n",
       "17                      Gurgaon/Gurugram, Delhi / NCR   5-10 Yrs  \n",
       "18             Mumbai, Bangalore/Bengaluru, Delhi NCR    2-7 Yrs  \n",
       "19       Gurgaon/Gurugram, India, Bangalore/Bengaluru   5-10 Yrs  "
      ]
     },
     "execution_count": 18,
     "metadata": {},
     "output_type": "execute_result"
    }
   ],
   "source": [
    "jobs=pd.DataFrame({})\n",
    "jobs['company']=company\n",
    "jobs['titale']=job_titles\n",
    "jobs['location']=location\n",
    "jobs['experience']=experience\n",
    "jobs"
   ]
  },
  {
   "cell_type": "code",
   "execution_count": 19,
   "id": "e5344148",
   "metadata": {},
   "outputs": [
    {
     "data": {
      "text/plain": [
       "[<selenium.webdriver.remote.webelement.WebElement (session=\"124ff99de68e0d8a70a371628e9e3a3c\", element=\"7e8b9c5f-62ff-4c2e-85bd-1b0516073388\")>,\n",
       " <selenium.webdriver.remote.webelement.WebElement (session=\"124ff99de68e0d8a70a371628e9e3a3c\", element=\"d48af197-28fc-4eed-aa1c-c9d7af733abf\")>,\n",
       " <selenium.webdriver.remote.webelement.WebElement (session=\"124ff99de68e0d8a70a371628e9e3a3c\", element=\"9cd78c5f-8d92-48e0-81b7-ffddcbd59484\")>,\n",
       " <selenium.webdriver.remote.webelement.WebElement (session=\"124ff99de68e0d8a70a371628e9e3a3c\", element=\"9b0283e6-394d-49a6-9721-7e689a7d2645\")>,\n",
       " <selenium.webdriver.remote.webelement.WebElement (session=\"124ff99de68e0d8a70a371628e9e3a3c\", element=\"9785603a-4ddd-4a5e-9300-7528065625f3\")>,\n",
       " <selenium.webdriver.remote.webelement.WebElement (session=\"124ff99de68e0d8a70a371628e9e3a3c\", element=\"ddea4e77-2bb2-4783-8830-4bc9f7593374\")>,\n",
       " <selenium.webdriver.remote.webelement.WebElement (session=\"124ff99de68e0d8a70a371628e9e3a3c\", element=\"5fa45421-c341-435c-9ba7-268c6cec17de\")>,\n",
       " <selenium.webdriver.remote.webelement.WebElement (session=\"124ff99de68e0d8a70a371628e9e3a3c\", element=\"ea883e1f-4309-48ca-8010-5c7cbf3dab24\")>,\n",
       " <selenium.webdriver.remote.webelement.WebElement (session=\"124ff99de68e0d8a70a371628e9e3a3c\", element=\"6e7aafc1-2915-496a-aa25-60ef8c45364b\")>,\n",
       " <selenium.webdriver.remote.webelement.WebElement (session=\"124ff99de68e0d8a70a371628e9e3a3c\", element=\"82322a14-43d2-472b-bda8-12ccf8e08261\")>]"
      ]
     },
     "execution_count": 19,
     "metadata": {},
     "output_type": "execute_result"
    }
   ],
   "source": [
    "page_url=[]\n",
    "url=driver.find_elements_by_xpath(\"//div[@class='fleft pages']//a\")\n",
    "url"
   ]
  },
  {
   "cell_type": "code",
   "execution_count": 20,
   "id": "14ca0f7c",
   "metadata": {},
   "outputs": [
    {
     "data": {
      "text/plain": [
       "['https://www.naukri.com/data-scientist-jobs-in-delhi',\n",
       " 'https://www.naukri.com/data-scientist-jobs-in-delhi-2',\n",
       " 'https://www.naukri.com/data-scientist-jobs-in-delhi-3',\n",
       " 'https://www.naukri.com/data-scientist-jobs-in-delhi-4',\n",
       " 'https://www.naukri.com/data-scientist-jobs-in-delhi-5',\n",
       " 'https://www.naukri.com/data-scientist-jobs-in-delhi-6',\n",
       " 'https://www.naukri.com/data-scientist-jobs-in-delhi-7',\n",
       " 'https://www.naukri.com/data-scientist-jobs-in-delhi-8',\n",
       " 'https://www.naukri.com/data-scientist-jobs-in-delhi-9',\n",
       " 'https://www.naukri.com/data-scientist-jobs-in-delhi-10']"
      ]
     },
     "execution_count": 20,
     "metadata": {},
     "output_type": "execute_result"
    }
   ],
   "source": [
    "pages_url=[]\n",
    "for i in url:\n",
    "    pages_url.append(i.get_attribute('href'))\n",
    "pages_url"
   ]
  },
  {
   "cell_type": "code",
   "execution_count": 22,
   "id": "da134a21",
   "metadata": {},
   "outputs": [
    {
     "data": {
      "text/plain": [
       "[]"
      ]
     },
     "execution_count": 22,
     "metadata": {},
     "output_type": "execute_result"
    }
   ],
   "source": [
    "job_title=[]\n",
    "for i in pages_url:\n",
    "    driver.get(i)\n",
    "    title_tags=driver.find_elements_by_xpath(\"//a[@class='title fw500 ellipsis']\")\n",
    "    for i in title_tags:\n",
    "        job_title.append(i.text)\n",
    "job_title"
   ]
  },
  {
   "cell_type": "code",
   "execution_count": 23,
   "id": "9ae3dab0",
   "metadata": {},
   "outputs": [],
   "source": [
    "url='https://www.flipkart.com/search?q=phones&otracker=search&otracker1=search&marketplace=FLIPKART&as-show=on&as=off'\n",
    "driver.get(url)"
   ]
  },
  {
   "cell_type": "code",
   "execution_count": 24,
   "id": "05a3d61a",
   "metadata": {},
   "outputs": [
    {
     "data": {
      "text/plain": [
       "['POCO M3 (Power Black, 64 GB)',\n",
       " 'POCO M3 (Cool Blue, 64 GB)',\n",
       " 'REDMI 9i (Midnight Black, 64 GB)',\n",
       " 'realme Narzo 30A (Laser Blue, 32 GB)',\n",
       " 'realme Narzo 30A (Laser Black, 64 GB)',\n",
       " 'realme Narzo 30A (Laser Black, 32 GB)',\n",
       " 'REDMI 9i (Nature Green, 64 GB)',\n",
       " 'realme C20 (Cool Grey, 32 GB)',\n",
       " 'realme C20 (Cool Blue, 32 GB)',\n",
       " 'Infinix Hot 10 Play (7° Purple, 64 GB)',\n",
       " 'REDMI 9i (Sea Blue, 64 GB)',\n",
       " 'Infinix Hot 10 Play (Morandi Green, 64 GB)',\n",
       " 'realme C12 (Power Blue, 32 GB)',\n",
       " 'realme C12 (Power Silver, 32 GB)',\n",
       " 'realme Narzo 20 (Glory Silver, 64 GB)',\n",
       " 'GIONEE Max (Royal Blue, 32 GB)',\n",
       " 'GIONEE Max (Red, 32 GB)',\n",
       " 'Nokia 105 SS 2021',\n",
       " 'realme C21 (Cross Blue, 32 GB)',\n",
       " 'realme C21 (Cross Blue, 64 GB)',\n",
       " 'realme C21 (Cross Black, 64 GB)',\n",
       " 'realme C21 (Cross Black, 32 GB)',\n",
       " 'REDMI Note 9 (Pebble Grey, 64 GB)',\n",
       " 'realme 8 5G (Supersonic Blue, 64 GB)']"
      ]
     },
     "execution_count": 24,
     "metadata": {},
     "output_type": "execute_result"
    }
   ],
   "source": [
    "phone_name=[]\n",
    "for i in driver.find_elements_by_xpath(\"//div[@class='_4rR01T']\"):\n",
    "    phone_name.append(i.text)\n",
    "phone_name"
   ]
  },
  {
   "cell_type": "code",
   "execution_count": 25,
   "id": "826c4e3c",
   "metadata": {},
   "outputs": [
    {
     "data": {
      "text/plain": [
       "['https://rukminim1.flixcart.com/image/312/312/kklhbbk0/mobile/m/s/f/m3-mzb0879in-poco-original-imafzxf686qtxq2x.jpeg?q=70',\n",
       " 'https://rukminim1.flixcart.com/image/312/312/kklhbbk0/mobile/h/i/q/m3-mzb087ain-poco-original-imafzxf8zqkcgwfv.jpeg?q=70',\n",
       " 'https://rukminim1.flixcart.com/image/312/312/kesv0y80/mobile/h/p/q/redmi-9i-mzb0814in-original-imafvehkgzghyqtp.jpeg?q=70',\n",
       " 'https://rukminim1.flixcart.com/image/312/312/klgx0280/mobile/h/q/e/narzo-30a-rmx3171-realme-original-imagyhbgh8qfambf.jpeg?q=70',\n",
       " 'https://rukminim1.flixcart.com/image/312/312/klgx0280/mobile/g/r/o/narzo-30a-rmx3171-realme-original-imagyhbgwxdztd4u.jpeg?q=70',\n",
       " 'https://rukminim1.flixcart.com/image/312/312/klgx0280/mobile/z/b/z/narzo-30a-rmx3171-realme-original-imagyhbgzcyfwzfz.jpeg?q=70',\n",
       " 'https://rukminim1.flixcart.com/image/312/312/kesv0y80/mobile/u/h/m/redmi-9i-mzb0818in-original-imafveh4xva2fes2.jpeg?q=70',\n",
       " 'https://rukminim1.flixcart.com/image/312/312/kn7sdjk0/mobile/7/9/u/c20-rmx3063-realme-original-imagfxfzjrkqtbhe.jpeg?q=70',\n",
       " 'https://rukminim1.flixcart.com/image/312/312/kn7sdjk0/mobile/w/h/q/c20-rmx3063-realme-original-imagfxfzay72jqvh.jpeg?q=70',\n",
       " 'https://rukminim1.flixcart.com/image/312/312/knm2s280/mobile/c/n/a/hot-10-play-x688b-infinix-original-imag29hfg6vspbuz.jpeg?q=70',\n",
       " 'https://rukminim1.flixcart.com/image/312/312/kesv0y80/mobile/b/y/9/redmi-9i-mzb0815in-original-imafvehwghyuphbc.jpeg?q=70',\n",
       " 'https://rukminim1.flixcart.com/image/312/312/knm2s280/mobile/v/l/u/hot-10-play-x688b-infinix-original-imag29hfaedkgdfe.jpeg?q=70',\n",
       " 'https://rukminim1.flixcart.com/image/312/312/kdxfc7k0/mobile/k/q/t/realme-c12-rmx2189-original-imafupuyk9wynufy.jpeg?q=70',\n",
       " 'https://rukminim1.flixcart.com/image/312/312/kdxfc7k0/mobile/h/c/e/realme-c12-rmx2189-original-imafupuyahzxtwfq.jpeg?q=70',\n",
       " 'https://rukminim1.flixcart.com/image/312/312/kfbfr0w0/mobile/b/k/h/realme-narzo-20-rmx2193-original-imafvswety9jxxsg.jpeg?q=70',\n",
       " 'https://rukminim1.flixcart.com/image/312/312/ke1pnrk0/mobile/j/q/r/gionee-max-gionee-max-original-imafutmrmdaz2dau.jpeg?q=70',\n",
       " 'https://rukminim1.flixcart.com/image/312/312/ke1pnrk0/mobile/9/h/z/gionee-max-gionee-max-original-imafutmryqkxehzn.jpeg?q=70',\n",
       " 'https://rukminim1.flixcart.com/image/312/312/k34rki80/mobile/3/z/x/nokia-105-ss-105-ss-original-imafjw6xnttqqhyf.jpeg?q=70',\n",
       " 'https://rukminim1.flixcart.com/image/312/312/kn7sdjk0/mobile/g/r/g/c21-rmx3201-realme-original-imagfxfwn9aryyda.jpeg?q=70',\n",
       " 'https://rukminim1.flixcart.com/image/312/312/kn7sdjk0/mobile/g/r/g/c21-rmx3201-realme-original-imagfxfwn9aryyda.jpeg?q=70',\n",
       " 'https://rukminim1.flixcart.com/image/312/312/kn7sdjk0/mobile/q/j/x/c21-rmx3201-realme-original-imagfxfwbszrxkvu.jpeg?q=70',\n",
       " 'https://rukminim1.flixcart.com/image/312/312/kn7sdjk0/mobile/q/j/x/c21-rmx3201-realme-original-imagfxfwbszrxkvu.jpeg?q=70',\n",
       " 'https://rukminim1.flixcart.com/image/312/312/kd69z0w0/mobile/a/n/g/mi-redmi-note-9-b086982zkf-original-imafu4qf8gfcutde.jpeg?q=70',\n",
       " 'https://rukminim1.flixcart.com/image/312/312/knrsjgw0/mobile/u/f/w/8-5g-rmx3241-realme-original-imag2d8ett6ukhcs.jpeg?q=70']"
      ]
     },
     "execution_count": 25,
     "metadata": {},
     "output_type": "execute_result"
    }
   ],
   "source": [
    "phone_img=[]\n",
    "for i in driver.find_elements_by_xpath(\"//div[@class='_2QcLo-']//img\"):\n",
    "    phone_img.append(i.get_attribute('src'))\n",
    "phone_img"
   ]
  },
  {
   "cell_type": "code",
   "execution_count": 28,
   "id": "6fca171d",
   "metadata": {},
   "outputs": [],
   "source": [
    "url='https://www.naukri.com/data-scientist-jobs?k=data%20scientist'\n",
    "driver.get(url)"
   ]
  },
  {
   "cell_type": "code",
   "execution_count": 29,
   "id": "e34650e3",
   "metadata": {},
   "outputs": [],
   "source": [
    "import time\n",
    "for i in range(10):\n",
    "    driver.find_element_by_xpath(\"//a[@class='fright fs14 btn-secondary br2']\").click()\n",
    "    time.sleep(5)\n"
   ]
  },
  {
   "cell_type": "code",
   "execution_count": 34,
   "id": "6f970a84",
   "metadata": {},
   "outputs": [],
   "source": [
    "job_title=[]\n",
    "for i in range(10):\n",
    "    for j in driver.find_elements_by_xpath(\"//a[@class='title fw500 ellipsis']\"):\n",
    "        job_title.append(j.text)\n",
    "        \n",
    "    driver.find_element_by_xpath(\"//a[@class='fright fs14 btn-secondary br2']\").click()\n",
    "    time.sleep(5)"
   ]
  },
  {
   "cell_type": "code",
   "execution_count": 35,
   "id": "d232e213",
   "metadata": {},
   "outputs": [
    {
     "data": {
      "text/plain": [
       "['Data Scientist || Immediate resources || Mumbai',\n",
       " 'Data Scientist',\n",
       " 'Data Scientist',\n",
       " 'Lead- Data Scientist',\n",
       " 'Data Scientist',\n",
       " 'Data Scientist - (Work from Home) - E commerce Manufacturer',\n",
       " 'Data Scientist: Artificial Intelligence',\n",
       " 'Senior Data Scientist | Analytics Consulting Company',\n",
       " 'Senior Data Scientist',\n",
       " 'Senior Data Scientist',\n",
       " 'Sr. Data Scientist – Medical analytics',\n",
       " 'Senior Data Scientist',\n",
       " 'Sr. Data Scientist - Marketing and Customer analytics',\n",
       " 'Senior Data Scientist',\n",
       " 'Data Scientist',\n",
       " 'Data Scientist',\n",
       " 'Data Analyst / Data Scientist For a Bpo',\n",
       " 'Machine Learning Developer - Data Scientist',\n",
       " 'Senior Data Scientist',\n",
       " 'Data Scientist',\n",
       " 'Data Scientist',\n",
       " 'Senior Data Scientist',\n",
       " 'Senior Data Scientist',\n",
       " 'Senior Data Scientist',\n",
       " 'Urgent Requirement For Data Scientist with ValueLabs - PAN India',\n",
       " 'Data Scientist',\n",
       " 'Data Scientist',\n",
       " 'Job Opening For Data Scientist Role with Sutherland Global Services',\n",
       " 'Looking For Data Scientist For Claim Genius',\n",
       " 'Lead Data Scientist',\n",
       " 'Advisory Services Consultant - Data Scientist',\n",
       " 'ML Engineer / Data Scientist',\n",
       " 'Data Scientist',\n",
       " 'Data Scientist Machine Learning',\n",
       " 'DATA SCIENTIST (Analytics Technology)',\n",
       " 'Jr/Sr Data Scientist - Leading Analytics Product Company in Mumbai',\n",
       " 'Senior Manager / Manager - Data Scientist',\n",
       " 'Data Scientist',\n",
       " 'Junior Data Scientist',\n",
       " 'Data Scientist',\n",
       " 'Data Scientist',\n",
       " 'Data Scientist',\n",
       " 'Junior Data Scientist',\n",
       " 'Data Engineer/Data Scientist/Data Analysis',\n",
       " 'Data Engineer/Data Scientist/Data Analysis',\n",
       " 'Data scientist - Delhi',\n",
       " 'Data Scientist: Advanced Analytics',\n",
       " 'Data Scientist',\n",
       " 'Lead Data Scientist',\n",
       " 'Data Scientist: Advanced Analytics',\n",
       " 'Data Scientist',\n",
       " 'Data Scientist',\n",
       " 'Senior Data Scientist - Python and Azure',\n",
       " 'Data Scientist - Python/R',\n",
       " 'Data Scientist For an AI Product (Work from Home)',\n",
       " 'Data Scientist',\n",
       " 'Senior Data Scientist For a leading Technology Centre in Kharadi',\n",
       " 'Your future job is here Sr Data Scientist – Pune – Permanent',\n",
       " 'Data Scientist',\n",
       " 'Assistant Manager/Manager/Data Scientist - Python/Machine Learning',\n",
       " 'Data Scientist',\n",
       " 'Data Scientist',\n",
       " 'Junior Data Scientist',\n",
       " 'Data Engineer/Data Scientist/Data Analysis',\n",
       " 'Data Engineer/Data Scientist/Data Analysis',\n",
       " 'Data scientist - Delhi',\n",
       " 'Data Scientist: Advanced Analytics',\n",
       " 'Data Scientist',\n",
       " 'Lead Data Scientist',\n",
       " 'Data Scientist: Advanced Analytics',\n",
       " 'Data Scientist',\n",
       " 'Data Scientist',\n",
       " 'Senior Data Scientist - Python and Azure',\n",
       " 'Data Scientist - Python/R',\n",
       " 'Data Scientist For an AI Product (Work from Home)',\n",
       " 'Data Scientist',\n",
       " 'Senior Data Scientist For a leading Technology Centre in Kharadi',\n",
       " 'Your future job is here Sr Data Scientist – Pune – Permanent',\n",
       " 'Data Scientist',\n",
       " 'Assistant Manager/Manager/Data Scientist - Python/Machine Learning',\n",
       " 'Urgent Requirement For Data Scientist',\n",
       " 'Data Scientist',\n",
       " 'Devoted Health - Data Scientist',\n",
       " 'VP - Data Scientist (Remote)',\n",
       " 'SAS Data Scientist',\n",
       " 'R Data Scientist',\n",
       " 'Data Scientist',\n",
       " 'Data Scientist (Predictive Modelling,Python)',\n",
       " 'Machine Learning Engineer/ Data Scientist',\n",
       " 'Machine Learning Engineer / Data Scientist',\n",
       " 'Machine Learning Engineer / Data Scientist',\n",
       " 'Data Scientist',\n",
       " 'Lead Data Scientist - SQL/R/Python',\n",
       " 'Hiring Java Programmers and data scientists',\n",
       " 'Data Scientist',\n",
       " 'Data Scientist',\n",
       " 'Data Scientist - Python/Machine Learning',\n",
       " 'Data Scientist (Machine Learning /AI)',\n",
       " 'Data Scientist (Machine Learning /AI)',\n",
       " 'Sr. Data Scientist – HR Analytics role For a leading NBFC',\n",
       " 'Urgent Requirement For Data Scientist',\n",
       " 'Data Scientist',\n",
       " 'Devoted Health - Data Scientist',\n",
       " 'VP - Data Scientist (Remote)',\n",
       " 'SAS Data Scientist',\n",
       " 'R Data Scientist',\n",
       " 'Data Scientist',\n",
       " 'Data Scientist (Predictive Modelling,Python)',\n",
       " 'Machine Learning Engineer/ Data Scientist',\n",
       " 'Machine Learning Engineer / Data Scientist',\n",
       " 'Machine Learning Engineer / Data Scientist',\n",
       " 'Data Scientist',\n",
       " 'Lead Data Scientist - SQL/R/Python',\n",
       " 'Hiring Java Programmers and data scientists',\n",
       " 'Data Scientist',\n",
       " 'Data Scientist',\n",
       " 'Data Scientist - Python/Machine Learning',\n",
       " 'Data Scientist (Machine Learning /AI)',\n",
       " 'Data Scientist (Machine Learning /AI)',\n",
       " 'Sr. Data Scientist – HR Analytics role For a leading NBFC',\n",
       " 'Data Scientist (Machine Learning /AI)',\n",
       " 'Sr. Data Scientist – HR Analytics role For a leading NBFC',\n",
       " 'Data Scientist - Artificial Intelligence/Machine Learning',\n",
       " 'Data Scientist',\n",
       " 'Data Scientist',\n",
       " 'Data Scientist',\n",
       " 'Optum | Lead Data Scientist - Gurgaon',\n",
       " 'Data Scientist',\n",
       " 'Associate Data Scientist',\n",
       " 'Data Scientist',\n",
       " 'Data Scientist',\n",
       " 'Data Scientist',\n",
       " 'Data Scientist',\n",
       " 'Data Scientist',\n",
       " 'Driveline Data Scientist',\n",
       " 'DATA Scientist – Gurgaon (Exp 3-6 years)',\n",
       " 'DATA Scientist – Gurgaon (Exp 3-6 years)',\n",
       " 'Data Scientist',\n",
       " 'Specialist data scientist',\n",
       " 'DATA ARCHITECT/DATA SCIENTIST',\n",
       " 'Data Scientist',\n",
       " 'Mechanical Engineers for the Trainee Data Scientists',\n",
       " 'Data Scientist',\n",
       " 'Data Scientist | Analytics Consulting Company | REMOTE',\n",
       " 'Data Scientist | Disruptive Digital Healthcare Platform',\n",
       " 'Data Scientist',\n",
       " 'Staff Data Scientist - Bangalore',\n",
       " 'Data Scientist - Banking Domain',\n",
       " 'Data Scientist',\n",
       " 'Azure ML Data Scientist',\n",
       " 'Data Scientist - KPO',\n",
       " 'Lead Data Scientist - Banking',\n",
       " 'Analytics & AI Product Mgmt - Sr. Data Scientist',\n",
       " 'Data Scientist - Noida',\n",
       " 'Data Scientist',\n",
       " 'Data Scientist',\n",
       " 'Data Scientist',\n",
       " 'Data Scientist',\n",
       " 'Associate Data Scientist',\n",
       " 'Data Scientist',\n",
       " 'Data Scientist - Noida',\n",
       " 'Associate Data Scientist',\n",
       " 'DATA SCIENTIST',\n",
       " 'Data Scientist',\n",
       " 'data scientist - biotechnology Jobs',\n",
       " 'Manager Data Scientist',\n",
       " 'Data Scientist',\n",
       " 'Data Scientist',\n",
       " 'Senior Data Scientist - Product Development Firm - IIT/ NIT/ BITS',\n",
       " 'Sr. Data Scientist',\n",
       " 'Senior Data Scientist',\n",
       " 'Data Scientist',\n",
       " 'Data Scientist - Python/Tensorflow/NLP',\n",
       " 'Data Scientist - Python/ Power BI/ SQL',\n",
       " 'Senior Data Scientist',\n",
       " 'Data Scientist - Demand Generation',\n",
       " 'Data Scientist - Demand Generation',\n",
       " 'Data Scientist',\n",
       " 'Data Scientist',\n",
       " 'Opening For Data Scientist _ Hyderabad location',\n",
       " 'Data Scientist',\n",
       " 'Opening For Data Scientist _ Hyderabad location',\n",
       " 'Opening For Data Scientist- 8(Advance Analytics ) with FMCG(Hyderabad)',\n",
       " 'Sr Professional - Data Scientist / Analytics',\n",
       " 'Data Scientist',\n",
       " 'Acon / Con - Data Scientist',\n",
       " 'Data Scientist',\n",
       " 'Hiring | Data Scientist- Procurement | Global MNC | Gurgaon',\n",
       " 'Data Scientist',\n",
       " 'Data Scientist - Climate Change : ISS Mumbai',\n",
       " 'Data Scientist',\n",
       " 'Urgent Opening For Data Scientist',\n",
       " 'Lead Data Scientist/Senior Lead Data Scientist',\n",
       " 'Senior Data Scientist/Senior Data Scientist',\n",
       " 'Senior Data Scientist/Senior Data Scientist',\n",
       " 'Lead Data Scientist/Senior Lead Data Scientist',\n",
       " 'Senior Data Scientist',\n",
       " 'Sr Data Analyst/Data Scientist',\n",
       " 'Sr.Data Scientist',\n",
       " 'Data Scientist']"
      ]
     },
     "execution_count": 35,
     "metadata": {},
     "output_type": "execute_result"
    }
   ],
   "source": [
    "job_title"
   ]
  },
  {
   "cell_type": "code",
   "execution_count": 36,
   "id": "c90f6010",
   "metadata": {},
   "outputs": [],
   "source": [
    "driver.get('https://www.flipkart.com/search?q=phones&otracker=search&otracker1=search&marketplace=FLIPKART&as-show=on&as=off&as-pos=1&as-type=HISTORY')"
   ]
  },
  {
   "cell_type": "code",
   "execution_count": 37,
   "id": "bf0896cf",
   "metadata": {},
   "outputs": [
    {
     "data": {
      "text/plain": [
       "['https://www.flipkart.com/poco-m3-power-black-64-gb/p/itmb49cc10841be2?pid=MOBFZTCUTAYPJHHR&lid=LSTMOBFZTCUTAYPJHHR2ZVC1N&marketplace=FLIPKART&q=phones&store=tyy%2F4io&srno=s_1_1&otracker=search&otracker1=search&fm=organic&iid=34533674-d037-4aac-a893-586b8bda4c4f.MOBFZTCUTAYPJHHR.SEARCH&ppt=None&ppn=None&ssid=g1exdwmjio0000001623175364268&qH=28388ea49f54c5b8',\n",
       " 'https://www.flipkart.com/poco-m3-cool-blue-64-gb/p/itmc8ec867cb0472?pid=MOBFZTCUDDCTDN3G&lid=LSTMOBFZTCUDDCTDN3GJBLKQ8&marketplace=FLIPKART&q=phones&store=tyy%2F4io&srno=s_1_2&otracker=search&otracker1=search&fm=organic&iid=34533674-d037-4aac-a893-586b8bda4c4f.MOBFZTCUDDCTDN3G.SEARCH&ppt=None&ppn=None&ssid=g1exdwmjio0000001623175364268&qH=28388ea49f54c5b8',\n",
       " 'https://www.flipkart.com/redmi-9i-midnight-black-64-gb/p/itm0e1018dac2627?pid=MOBFV8RYKWQ3HACE&lid=LSTMOBFV8RYKWQ3HACEV2QOWQ&marketplace=FLIPKART&q=phones&store=tyy%2F4io&srno=s_1_3&otracker=search&otracker1=search&fm=organic&iid=34533674-d037-4aac-a893-586b8bda4c4f.MOBFV8RYKWQ3HACE.SEARCH&ppt=None&ppn=None&ssid=g1exdwmjio0000001623175364268&qH=28388ea49f54c5b8',\n",
       " 'https://www.flipkart.com/realme-narzo-30a-laser-blue-64-gb/p/itma78aeb1d764b5?pid=MOBGYFAXFPHUPEE5&lid=LSTMOBGYFAXFPHUPEE58SG25P&marketplace=FLIPKART&q=phones&store=tyy%2F4io&srno=s_1_4&otracker=search&otracker1=search&fm=organic&iid=34533674-d037-4aac-a893-586b8bda4c4f.MOBGYFAXFPHUPEE5.SEARCH&ppt=None&ppn=None&ssid=g1exdwmjio0000001623175364268&qH=28388ea49f54c5b8',\n",
       " 'https://www.flipkart.com/realme-narzo-30a-laser-black-64-gb/p/itma78aeb1d764b5?pid=MOBGYFAXVHTZUGW6&lid=LSTMOBGYFAXVHTZUGW67OZ3AA&marketplace=FLIPKART&q=phones&store=tyy%2F4io&srno=s_1_5&otracker=search&otracker1=search&fm=organic&iid=34533674-d037-4aac-a893-586b8bda4c4f.MOBGYFAXVHTZUGW6.SEARCH&ppt=None&ppn=None&ssid=g1exdwmjio0000001623175364268&qH=28388ea49f54c5b8',\n",
       " 'https://www.flipkart.com/realme-narzo-30a-laser-blue-32-gb/p/itma78aeb1d764b5?pid=MOBGYFAXFQYTPYEF&lid=LSTMOBGYFAXFQYTPYEFHEOYGJ&marketplace=FLIPKART&q=phones&store=tyy%2F4io&srno=s_1_6&otracker=search&otracker1=search&fm=organic&iid=34533674-d037-4aac-a893-586b8bda4c4f.MOBGYFAXFQYTPYEF.SEARCH&ppt=None&ppn=None&ssid=g1exdwmjio0000001623175364268&qH=28388ea49f54c5b8',\n",
       " 'https://www.flipkart.com/realme-narzo-30a-laser-black-32-gb/p/itma78aeb1d764b5?pid=MOBGYFAXAUENZFU3&lid=LSTMOBGYFAXAUENZFU3JULWX9&marketplace=FLIPKART&q=phones&store=tyy%2F4io&srno=s_1_7&otracker=search&otracker1=search&fm=organic&iid=34533674-d037-4aac-a893-586b8bda4c4f.MOBGYFAXAUENZFU3.SEARCH&ppt=None&ppn=None&ssid=g1exdwmjio0000001623175364268&qH=28388ea49f54c5b8',\n",
       " 'https://www.flipkart.com/redmi-9i-nature-green-64-gb/p/itm2e2fcd7b3eb7b?pid=MOBFV8RYNA4FVEH7&lid=LSTMOBFV8RYNA4FVEH7GEI6Y9&marketplace=FLIPKART&q=phones&store=tyy%2F4io&srno=s_1_8&otracker=search&otracker1=search&fm=organic&iid=34533674-d037-4aac-a893-586b8bda4c4f.MOBFV8RYNA4FVEH7.SEARCH&ppt=None&ppn=None&ssid=g1exdwmjio0000001623175364268&qH=28388ea49f54c5b8',\n",
       " 'https://www.flipkart.com/realme-c20-cool-grey-32-gb/p/itmea1903897436b?pid=MOBGF489SQZCFHYA&lid=LSTMOBGF489SQZCFHYAGB7SDS&marketplace=FLIPKART&q=phones&store=tyy%2F4io&srno=s_1_9&otracker=search&otracker1=search&fm=organic&iid=34533674-d037-4aac-a893-586b8bda4c4f.MOBGF489SQZCFHYA.SEARCH&ppt=None&ppn=None&ssid=g1exdwmjio0000001623175364268&qH=28388ea49f54c5b8',\n",
       " 'https://www.flipkart.com/realme-c20-cool-blue-32-gb/p/itmea1903897436b?pid=MOBGF4894MEWZJGV&lid=LSTMOBGF4894MEWZJGVW425N5&marketplace=FLIPKART&q=phones&store=tyy%2F4io&srno=s_1_10&otracker=search&otracker1=search&fm=organic&iid=34533674-d037-4aac-a893-586b8bda4c4f.MOBGF4894MEWZJGV.SEARCH&ppt=None&ppn=None&ssid=g1exdwmjio0000001623175364268&qH=28388ea49f54c5b8',\n",
       " 'https://www.flipkart.com/infinix-hot-10-play-7-purple-64-gb/p/itm1f660c8716944?pid=MOBGFG7UWVKZUXS2&lid=LSTMOBGFG7UWVKZUXS24SUVN7&marketplace=FLIPKART&q=phones&store=tyy%2F4io&srno=s_1_11&otracker=search&otracker1=search&fm=organic&iid=34533674-d037-4aac-a893-586b8bda4c4f.MOBGFG7UWVKZUXS2.SEARCH&ppt=None&ppn=None&ssid=g1exdwmjio0000001623175364268&qH=28388ea49f54c5b8',\n",
       " 'https://www.flipkart.com/realme-narzo-20-glory-silver-64-gb/p/itm4ac58d879006d?pid=MOBFVEATBBRGJBKH&lid=LSTMOBFVEATBBRGJBKH4OKPVI&marketplace=FLIPKART&q=phones&store=tyy%2F4io&srno=s_1_12&otracker=search&otracker1=search&fm=organic&iid=34533674-d037-4aac-a893-586b8bda4c4f.MOBFVEATBBRGJBKH.SEARCH&ppt=None&ppn=None&ssid=g1exdwmjio0000001623175364268&qH=28388ea49f54c5b8',\n",
       " 'https://www.flipkart.com/redmi-9i-sea-blue-64-gb/p/itmfb30d06b478fc?pid=MOBFV8RYTHGA8BY9&lid=LSTMOBFV8RYTHGA8BY94NDC4M&marketplace=FLIPKART&q=phones&store=tyy%2F4io&srno=s_1_13&otracker=search&otracker1=search&fm=organic&iid=34533674-d037-4aac-a893-586b8bda4c4f.MOBFV8RYTHGA8BY9.SEARCH&ppt=None&ppn=None&ssid=g1exdwmjio0000001623175364268&qH=28388ea49f54c5b8',\n",
       " 'https://www.flipkart.com/realme-c12-power-blue-32-gb/p/itm4854d77becc77?pid=MOBFUEPQHDPFKKQT&lid=LSTMOBFUEPQHDPFKKQTW2X6UR&marketplace=FLIPKART&q=phones&store=tyy%2F4io&srno=s_1_14&otracker=search&otracker1=search&fm=organic&iid=34533674-d037-4aac-a893-586b8bda4c4f.MOBFUEPQHDPFKKQT.SEARCH&ppt=None&ppn=None&ssid=g1exdwmjio0000001623175364268&qH=28388ea49f54c5b8',\n",
       " 'https://www.flipkart.com/realme-c12-power-silver-32-gb/p/itm4854d77becc77?pid=MOBFUEPQEEDFBHCE&lid=LSTMOBFUEPQEEDFBHCEUX6BAW&marketplace=FLIPKART&q=phones&store=tyy%2F4io&srno=s_1_15&otracker=search&otracker1=search&fm=organic&iid=34533674-d037-4aac-a893-586b8bda4c4f.MOBFUEPQEEDFBHCE.SEARCH&ppt=None&ppn=None&ssid=g1exdwmjio0000001623175364268&qH=28388ea49f54c5b8',\n",
       " 'https://www.flipkart.com/infinix-hot-10-play-morandi-green-64-gb/p/itm1f660c8716944?pid=MOBGFG7U8PDJFFTJ&lid=LSTMOBGFG7U8PDJFFTJDLSYLK&marketplace=FLIPKART&q=phones&store=tyy%2F4io&srno=s_1_16&otracker=search&otracker1=search&fm=organic&iid=34533674-d037-4aac-a893-586b8bda4c4f.MOBGFG7U8PDJFFTJ.SEARCH&ppt=None&ppn=None&ssid=g1exdwmjio0000001623175364268&qH=28388ea49f54c5b8',\n",
       " 'https://www.flipkart.com/gionee-max-royal-blue-32-gb/p/itm9c57c2a56c825?pid=MOBFUPX9JGGGHJQR&lid=LSTMOBFUPX9JGGGHJQRG3HBGW&marketplace=FLIPKART&q=phones&store=tyy%2F4io&srno=s_1_17&otracker=search&otracker1=search&fm=organic&iid=34533674-d037-4aac-a893-586b8bda4c4f.MOBFUPX9JGGGHJQR.SEARCH&ppt=None&ppn=None&ssid=g1exdwmjio0000001623175364268&qH=28388ea49f54c5b8',\n",
       " 'https://www.flipkart.com/realme-c25-watery-blue-64-gb/p/itm62d25188ea98a?pid=MOBGFZ7VHNHCA9UH&lid=LSTMOBGFZ7VHNHCA9UHMHHH6R&marketplace=FLIPKART&q=phones&store=tyy%2F4io&srno=s_1_18&otracker=search&otracker1=search&fm=organic&iid=34533674-d037-4aac-a893-586b8bda4c4f.MOBGFZ7VHNHCA9UH.SEARCH&ppt=None&ppn=None&ssid=g1exdwmjio0000001623175364268&qH=28388ea49f54c5b8',\n",
       " 'https://www.flipkart.com/gionee-max-red-32-gb/p/itm9c57c2a56c825?pid=MOBFUPX9KHUXY9HZ&lid=LSTMOBFUPX9KHUXY9HZD02LUV&marketplace=FLIPKART&q=phones&store=tyy%2F4io&srno=s_1_19&otracker=search&otracker1=search&fm=organic&iid=34533674-d037-4aac-a893-586b8bda4c4f.MOBFUPX9KHUXY9HZ.SEARCH&ppt=None&ppn=None&ssid=g1exdwmjio0000001623175364268&qH=28388ea49f54c5b8',\n",
       " 'https://www.flipkart.com/nokia-105-ss-2021/p/itmf0223d31aa045?pid=MOBFH7HQMBAQMGBX&lid=LSTMOBFH7HQMBAQMGBXUVLLNT&marketplace=FLIPKART&q=phones&store=tyy%2F4io&srno=s_1_20&otracker=search&otracker1=search&fm=organic&iid=34533674-d037-4aac-a893-586b8bda4c4f.MOBFH7HQMBAQMGBX.SEARCH&ppt=None&ppn=None&ssid=g1exdwmjio0000001623175364268&qH=28388ea49f54c5b8',\n",
       " 'https://www.flipkart.com/realme-c21-cross-blue-64-gb/p/itmf4062d3f37c1a?pid=MOBGF4895YRNAHFZ&lid=LSTMOBGF4895YRNAHFZ3XABXU&marketplace=FLIPKART&q=phones&store=tyy%2F4io&srno=s_1_21&otracker=search&otracker1=search&fm=organic&iid=34533674-d037-4aac-a893-586b8bda4c4f.MOBGF4895YRNAHFZ.SEARCH&ppt=None&ppn=None&ssid=g1exdwmjio0000001623175364268&qH=28388ea49f54c5b8',\n",
       " 'https://www.flipkart.com/realme-c21-cross-blue-32-gb/p/itmf4062d3f37c1a?pid=MOBGF489MNZGABVJ&lid=LSTMOBGF489MNZGABVJ28ZM4B&marketplace=FLIPKART&q=phones&store=tyy%2F4io&srno=s_1_22&otracker=search&otracker1=search&fm=organic&iid=34533674-d037-4aac-a893-586b8bda4c4f.MOBGF489MNZGABVJ.SEARCH&ppt=None&ppn=None&ssid=g1exdwmjio0000001623175364268&qH=28388ea49f54c5b8',\n",
       " 'https://www.flipkart.com/realme-c21-cross-black-64-gb/p/itmf4062d3f37c1a?pid=MOBGF489G9HRWFZ9&lid=LSTMOBGF489G9HRWFZ9BYFZCR&marketplace=FLIPKART&q=phones&store=tyy%2F4io&srno=s_1_23&otracker=search&otracker1=search&fm=organic&iid=34533674-d037-4aac-a893-586b8bda4c4f.MOBGF489G9HRWFZ9.SEARCH&ppt=None&ppn=None&ssid=g1exdwmjio0000001623175364268&qH=28388ea49f54c5b8',\n",
       " 'https://www.flipkart.com/realme-c21-cross-black-32-gb/p/itmf4062d3f37c1a?pid=MOBGF489EUA5PEBK&lid=LSTMOBGF489EUA5PEBKOSO80O&marketplace=FLIPKART&q=phones&store=tyy%2F4io&srno=s_1_24&otracker=search&otracker1=search&fm=organic&iid=34533674-d037-4aac-a893-586b8bda4c4f.MOBGF489EUA5PEBK.SEARCH&ppt=None&ppn=None&ssid=g1exdwmjio0000001623175364268&qH=28388ea49f54c5b8']"
      ]
     },
     "execution_count": 37,
     "metadata": {},
     "output_type": "execute_result"
    }
   ],
   "source": [
    "urls=[]\n",
    "for i in driver.find_elements_by_xpath(\"//a[@class='_1fQZEK']\"):\n",
    "    urls.append(i.get_attribute('href'))\n",
    "urls"
   ]
  },
  {
   "cell_type": "code",
   "execution_count": 38,
   "id": "2d06a656",
   "metadata": {},
   "outputs": [],
   "source": [
    "for i in urls[0:45]:\n",
    "    driver.get(i)\n",
    "    time.sleep(5)"
   ]
  },
  {
   "cell_type": "code",
   "execution_count": null,
   "id": "e1bb818e",
   "metadata": {},
   "outputs": [],
   "source": []
  }
 ],
 "metadata": {
  "kernelspec": {
   "display_name": "Python 3",
   "language": "python",
   "name": "python3"
  },
  "language_info": {
   "codemirror_mode": {
    "name": "ipython",
    "version": 3
   },
   "file_extension": ".py",
   "mimetype": "text/x-python",
   "name": "python",
   "nbconvert_exporter": "python",
   "pygments_lexer": "ipython3",
   "version": "3.8.8"
  }
 },
 "nbformat": 4,
 "nbformat_minor": 5
}
