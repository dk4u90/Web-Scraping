{
 "cells": [
  {
   "cell_type": "code",
   "execution_count": 1,
   "id": "8fd20fe5",
   "metadata": {},
   "outputs": [],
   "source": [
    "# Importing important Libraries\n",
    "import selenium\n",
    "import pandas as pd\n",
    "from selenium import webdriver\n",
    "import time\n",
    "# Importing required Exceptions which needs to handled\n",
    "from selenium.common.exceptions import StaleElementReferenceException, NoSuchElementException"
   ]
  },
  {
   "cell_type": "code",
   "execution_count": 2,
   "id": "68303397",
   "metadata": {},
   "outputs": [],
   "source": [
    "# Activating the chrome browser\n",
    "driver = webdriver.Chrome('chromedriver.exe')\n",
    "# Opening the homepage of Wikipedia.\n",
    "driver.get('https://www.deccanherald.com/sitemap/detail/year/2021-6')"
   ]
  },
  {
   "cell_type": "code",
   "execution_count": 3,
   "id": "7519da0a",
   "metadata": {},
   "outputs": [],
   "source": [
    "Date_URL=[]\n",
    "try:\n",
    "    #scraping Date_URL\n",
    "    for i in driver.find_elements_by_xpath(\"//div[@class='grid-inner clearfix']/ul/li/a\"):\n",
    "        #appending the urls in Date_URL list\n",
    "        Date_URL.append(i.get_attribute('href'))\n",
    "except NoSuchElementException :\n",
    "    Date_URL.append(\"Not Available\")"
   ]
  },
  {
   "cell_type": "code",
   "execution_count": 4,
   "id": "d20a0701",
   "metadata": {},
   "outputs": [
    {
     "data": {
      "text/plain": [
       "['https://www.deccanherald.com/sitemap/detail/days/2021-06-01',\n",
       " 'https://www.deccanherald.com/sitemap/detail/days/2021-06-02',\n",
       " 'https://www.deccanherald.com/sitemap/detail/days/2021-06-03',\n",
       " 'https://www.deccanherald.com/sitemap/detail/days/2021-06-04',\n",
       " 'https://www.deccanherald.com/sitemap/detail/days/2021-06-05',\n",
       " 'https://www.deccanherald.com/sitemap/detail/days/2021-06-06',\n",
       " 'https://www.deccanherald.com/sitemap/detail/days/2021-06-07',\n",
       " 'https://www.deccanherald.com/sitemap/detail/days/2021-06-08',\n",
       " 'https://www.deccanherald.com/sitemap/detail/days/2021-06-09',\n",
       " 'https://www.deccanherald.com/sitemap/detail/days/2021-06-10',\n",
       " 'https://www.deccanherald.com/sitemap/detail/days/2021-06-11',\n",
       " 'https://www.deccanherald.com/sitemap/detail/days/2021-06-12',\n",
       " 'https://www.deccanherald.com/sitemap/detail/days/2021-06-13',\n",
       " 'https://www.deccanherald.com/sitemap/detail/days/2021-06-14',\n",
       " 'https://www.deccanherald.com/sitemap/detail/days/2021-06-15',\n",
       " 'https://www.deccanherald.com/sitemap/detail/days/2021-06-16',\n",
       " 'https://www.deccanherald.com/sitemap/detail/days/2021-06-17',\n",
       " 'https://www.deccanherald.com/sitemap/detail/days/2021-06-18',\n",
       " 'https://www.deccanherald.com/sitemap/detail/days/2021-06-19',\n",
       " 'https://www.deccanherald.com/sitemap/detail/days/2021-06-20',\n",
       " 'https://www.deccanherald.com/sitemap/detail/days/2021-06-21',\n",
       " 'https://www.deccanherald.com/sitemap/detail/days/2021-06-22',\n",
       " 'https://www.deccanherald.com/sitemap/detail/days/2021-06-23',\n",
       " 'https://www.deccanherald.com/sitemap/detail/days/2021-06-24',\n",
       " 'https://www.deccanherald.com/sitemap/detail/days/2021-06-25',\n",
       " 'https://www.deccanherald.com/sitemap/detail/days/2021-06-26',\n",
       " 'https://www.deccanherald.com/sitemap/detail/days/2021-06-27',\n",
       " 'https://www.deccanherald.com/sitemap/detail/days/2021-06-28',\n",
       " 'https://www.deccanherald.com/sitemap/detail/days/2021-06-29',\n",
       " 'https://www.deccanherald.com/sitemap/detail/days/2021-06-30']"
      ]
     },
     "execution_count": 4,
     "metadata": {},
     "output_type": "execute_result"
    }
   ],
   "source": [
    "Date_URL"
   ]
  },
  {
   "cell_type": "code",
   "execution_count": 5,
   "id": "abc94f3b",
   "metadata": {},
   "outputs": [
    {
     "data": {
      "text/plain": [
       "30"
      ]
     },
     "execution_count": 5,
     "metadata": {},
     "output_type": "execute_result"
    }
   ],
   "source": [
    "len(Date_URL)"
   ]
  },
  {
   "cell_type": "code",
   "execution_count": 6,
   "id": "e55fa202",
   "metadata": {},
   "outputs": [],
   "source": [
    "Headline_URL=[]\n",
    "for j in Date_URL:\n",
    "    driver.get(j)\n",
    "    try:\n",
    "        #scraping Headline_URL\n",
    "        for i in driver.find_elements_by_xpath(\"//div[@class='group']/ul/li/a\"):\n",
    "            #appending the urls in Headline_URL list\n",
    "            Headline_URL.append(i.get_attribute('href'))\n",
    "    except NoSuchElementException :\n",
    "        Headline_URL.append(\"Not Available\")"
   ]
  },
  {
   "cell_type": "code",
   "execution_count": 7,
   "id": "cc11c715",
   "metadata": {},
   "outputs": [
    {
     "data": {
      "text/plain": [
       "8835"
      ]
     },
     "execution_count": 7,
     "metadata": {},
     "output_type": "execute_result"
    }
   ],
   "source": [
    "len(Headline_URL)"
   ]
  },
  {
   "cell_type": "code",
   "execution_count": 11,
   "id": "c79918bd",
   "metadata": {},
   "outputs": [],
   "source": [
    "Date=[]\n",
    "Author=[]\n",
    "Vertical=[]\n",
    "Headline=[]\n",
    "Description=[]\n",
    "for url in Headline_URL:\n",
    "    driver.get(url)\n",
    "    time.sleep(2)\n",
    "    try: \n",
    "        headline=driver.find_element_by_xpath(\"//div[@class='section-container']/div/div[2]/div/h1\").text\n",
    "        Headline.append(headline)\n",
    "    except NoSuchElementException :\n",
    "        Headline.append(\"Not Available\")\n",
    "        \n",
    "    # Extracting Vertical from xpath       \n",
    "    try: \n",
    "        vertical=driver.find_element_by_xpath(\"//div[@class='breadcrumb-list js-scrolltop']/div/div/ul/li[2]/a\").text\n",
    "        Vertical.append(vertical)\n",
    "    except NoSuchElementException :\n",
    "        Vertical.append(\"Not Available\")\n",
    "        \n",
    "    # Extracting Author from xpath\n",
    "    try: \n",
    "        author=driver.find_element_by_xpath(\"//div[@class='section-container']/div/div[3]/div[2]/a\").text\n",
    "        Author.append(author)\n",
    "    except NoSuchElementException :\n",
    "            Author.append(\"Not Available\")\n",
    "            \n",
    "            \n",
    "    # Extracting Date from xpath\n",
    "    try: \n",
    "        date=driver.find_element_by_xpath(\"//div[@class='section-container']/div/div[3]/div[2]/ul/li[2]\").text\n",
    "        Date.append(date)\n",
    "    except NoSuchElementException :\n",
    "        Date.append(\"Not Available\")\n",
    "        \n",
    "        # Extracting Description from xpath\n",
    "    try: \n",
    "        description=driver.find_element_by_xpath(\"//div[@class='wrapper ']/div/div/div[4]/div/div[2]/div[2]/div[2]/div/div/p\").text\n",
    "        Description.append(description)\n",
    "    except NoSuchElementException :\n",
    "        Description.append(\"Not Available\")"
   ]
  },
  {
   "cell_type": "code",
   "execution_count": 12,
   "id": "c4bc6bf4",
   "metadata": {},
   "outputs": [
    {
     "data": {
      "text/html": [
       "<div>\n",
       "<style scoped>\n",
       "    .dataframe tbody tr th:only-of-type {\n",
       "        vertical-align: middle;\n",
       "    }\n",
       "\n",
       "    .dataframe tbody tr th {\n",
       "        vertical-align: top;\n",
       "    }\n",
       "\n",
       "    .dataframe thead th {\n",
       "        text-align: right;\n",
       "    }\n",
       "</style>\n",
       "<table border=\"1\" class=\"dataframe\">\n",
       "  <thead>\n",
       "    <tr style=\"text-align: right;\">\n",
       "      <th></th>\n",
       "      <th>Date</th>\n",
       "      <th>Author</th>\n",
       "      <th>Vertical</th>\n",
       "      <th>Headline</th>\n",
       "      <th>Description</th>\n",
       "    </tr>\n",
       "  </thead>\n",
       "  <tbody>\n",
       "    <tr>\n",
       "      <th>0</th>\n",
       "      <td>UPDATED: JUN 10 2021, 01:03 IST</td>\n",
       "      <td>DH Web Desk,</td>\n",
       "      <td>Specials</td>\n",
       "      <td>Libra Daily Horoscope - June 10 | Free Online ...</td>\n",
       "      <td>Disharmony at home is stressful. Avoid making ...</td>\n",
       "    </tr>\n",
       "    <tr>\n",
       "      <th>1</th>\n",
       "      <td>UPDATED: JUN 10 2021, 01:05 IST</td>\n",
       "      <td>DH Web Desk,</td>\n",
       "      <td>Specials</td>\n",
       "      <td>Scorpio Daily Horoscope - June 10 | Free Onlin...</td>\n",
       "      <td>Focus your efforts on your work. Insurance pay...</td>\n",
       "    </tr>\n",
       "    <tr>\n",
       "      <th>2</th>\n",
       "      <td>UPDATED: JUN 10 2021, 01:07 IST</td>\n",
       "      <td>DH Web Desk,</td>\n",
       "      <td>Specials</td>\n",
       "      <td>Sagittarius Daily Horoscope - June 10 | Free O...</td>\n",
       "      <td>You are very clear and perceptive now. It's a ...</td>\n",
       "    </tr>\n",
       "    <tr>\n",
       "      <th>3</th>\n",
       "      <td>UPDATED: JUN 10 2021, 01:09 IST</td>\n",
       "      <td>DH Web Desk,</td>\n",
       "      <td>Specials</td>\n",
       "      <td>Capricorn Daily Horoscope - June 10 | Free Onl...</td>\n",
       "      <td>New projects, business ventures, new career, h...</td>\n",
       "    </tr>\n",
       "    <tr>\n",
       "      <th>4</th>\n",
       "      <td>UPDATED: JUN 10 2021, 01:10 IST</td>\n",
       "      <td>DH Web Desk,</td>\n",
       "      <td>Specials</td>\n",
       "      <td>Aquarius Daily Horoscope - June 10 | Free Onli...</td>\n",
       "      <td>A partner gets a windfall or elevation in stat...</td>\n",
       "    </tr>\n",
       "    <tr>\n",
       "      <th>...</th>\n",
       "      <td>...</td>\n",
       "      <td>...</td>\n",
       "      <td>...</td>\n",
       "      <td>...</td>\n",
       "      <td>...</td>\n",
       "    </tr>\n",
       "    <tr>\n",
       "      <th>450</th>\n",
       "      <td>UPDATED: JUN 12 2021, 07:25 IST</td>\n",
       "      <td>DHNS,</td>\n",
       "      <td>State</td>\n",
       "      <td>Bring Covid-19 test positivity rate to zero: S...</td>\n",
       "      <td>District In-charge Minister V Somanna issued d...</td>\n",
       "    </tr>\n",
       "    <tr>\n",
       "      <th>451</th>\n",
       "      <td>UPDATED: JUN 12 2021, 07:24 IST</td>\n",
       "      <td>DHNS,</td>\n",
       "      <td>State</td>\n",
       "      <td>Oxygen generation unit inaugurated in Virajpet</td>\n",
       "      <td>District In-charge Minister V Somanna inaugura...</td>\n",
       "    </tr>\n",
       "    <tr>\n",
       "      <th>452</th>\n",
       "      <td>UPDATED: JUN 12 2021, 07:24 IST</td>\n",
       "      <td>DHNS,</td>\n",
       "      <td>State</td>\n",
       "      <td>Auto Sati’s demise creates a void in Napoklu</td>\n",
       "      <td>“My father was driving an autorickshaw for 25 ...</td>\n",
       "    </tr>\n",
       "    <tr>\n",
       "      <th>453</th>\n",
       "      <td>UPDATED: JUN 12 2021, 01:00 IST</td>\n",
       "      <td>DHNS,</td>\n",
       "      <td>State</td>\n",
       "      <td>187 new cases of Covid-19 in Kodagu</td>\n",
       "      <td>Not Available</td>\n",
       "    </tr>\n",
       "    <tr>\n",
       "      <th>454</th>\n",
       "      <td>UPDATED: JUN 12 2021, 01:02 IST</td>\n",
       "      <td>DHNS,</td>\n",
       "      <td>State</td>\n",
       "      <td>Ganja peddling: Bank staff member, students held</td>\n",
       "      <td>Not Available</td>\n",
       "    </tr>\n",
       "  </tbody>\n",
       "</table>\n",
       "<p>455 rows × 5 columns</p>\n",
       "</div>"
      ],
      "text/plain": [
       "                                Date        Author  Vertical  \\\n",
       "0    UPDATED: JUN 10 2021, 01:03 IST  DH Web Desk,  Specials   \n",
       "1    UPDATED: JUN 10 2021, 01:05 IST  DH Web Desk,  Specials   \n",
       "2    UPDATED: JUN 10 2021, 01:07 IST  DH Web Desk,  Specials   \n",
       "3    UPDATED: JUN 10 2021, 01:09 IST  DH Web Desk,  Specials   \n",
       "4    UPDATED: JUN 10 2021, 01:10 IST  DH Web Desk,  Specials   \n",
       "..                               ...           ...       ...   \n",
       "450  UPDATED: JUN 12 2021, 07:25 IST         DHNS,     State   \n",
       "451  UPDATED: JUN 12 2021, 07:24 IST         DHNS,     State   \n",
       "452  UPDATED: JUN 12 2021, 07:24 IST         DHNS,     State   \n",
       "453  UPDATED: JUN 12 2021, 01:00 IST         DHNS,     State   \n",
       "454  UPDATED: JUN 12 2021, 01:02 IST         DHNS,     State   \n",
       "\n",
       "                                              Headline  \\\n",
       "0    Libra Daily Horoscope - June 10 | Free Online ...   \n",
       "1    Scorpio Daily Horoscope - June 10 | Free Onlin...   \n",
       "2    Sagittarius Daily Horoscope - June 10 | Free O...   \n",
       "3    Capricorn Daily Horoscope - June 10 | Free Onl...   \n",
       "4    Aquarius Daily Horoscope - June 10 | Free Onli...   \n",
       "..                                                 ...   \n",
       "450  Bring Covid-19 test positivity rate to zero: S...   \n",
       "451     Oxygen generation unit inaugurated in Virajpet   \n",
       "452       Auto Sati’s demise creates a void in Napoklu   \n",
       "453                187 new cases of Covid-19 in Kodagu   \n",
       "454   Ganja peddling: Bank staff member, students held   \n",
       "\n",
       "                                           Description  \n",
       "0    Disharmony at home is stressful. Avoid making ...  \n",
       "1    Focus your efforts on your work. Insurance pay...  \n",
       "2    You are very clear and perceptive now. It's a ...  \n",
       "3    New projects, business ventures, new career, h...  \n",
       "4    A partner gets a windfall or elevation in stat...  \n",
       "..                                                 ...  \n",
       "450  District In-charge Minister V Somanna issued d...  \n",
       "451  District In-charge Minister V Somanna inaugura...  \n",
       "452  “My father was driving an autorickshaw for 25 ...  \n",
       "453                                      Not Available  \n",
       "454                                      Not Available  \n",
       "\n",
       "[455 rows x 5 columns]"
      ]
     },
     "execution_count": 12,
     "metadata": {},
     "output_type": "execute_result"
    }
   ],
   "source": [
    "#create Dataframe.\n",
    "Deccan_Herald=pd.DataFrame({})\n",
    "Deccan_Herald['Date']=Date\n",
    "Deccan_Herald['Author']=Author\n",
    "Deccan_Herald['Vertical']=Vertical\n",
    "Deccan_Herald['Headline']=Headline\n",
    "Deccan_Herald['Description']=Description\n",
    "Deccan_Herald"
   ]
  },
  {
   "cell_type": "code",
   "execution_count": 13,
   "id": "3ac0a219",
   "metadata": {},
   "outputs": [],
   "source": [
    "# saving the dataframe\n",
    "Deccan_Herald.to_csv('DH1.csv')"
   ]
  },
  {
   "cell_type": "code",
   "execution_count": null,
   "id": "63518cd9",
   "metadata": {},
   "outputs": [],
   "source": []
  }
 ],
 "metadata": {
  "kernelspec": {
   "display_name": "Python 3",
   "language": "python",
   "name": "python3"
  },
  "language_info": {
   "codemirror_mode": {
    "name": "ipython",
    "version": 3
   },
   "file_extension": ".py",
   "mimetype": "text/x-python",
   "name": "python",
   "nbconvert_exporter": "python",
   "pygments_lexer": "ipython3",
   "version": "3.8.8"
  }
 },
 "nbformat": 4,
 "nbformat_minor": 5
}
